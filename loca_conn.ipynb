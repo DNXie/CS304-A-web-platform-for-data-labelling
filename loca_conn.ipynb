{
 "cells": [
  {
   "cell_type": "code",
   "execution_count": 322,
   "metadata": {},
   "outputs": [],
   "source": [
    "import time\n",
    "import os\n",
    "import json\n",
    "import datetime\n",
    "\n",
    "def get_timestamp():\n",
    "    return float(\"{0:.2f}\".format(time.time()))\n",
    "    # return strftime(\"%Y-%m-%d %H:%M:%S\", gmtime())\n",
    "\n",
    "def timestamp_ealier_than(begin, days):\n",
    "    return int((begin - datetime.timedelta(days=days)).strftime(\"%s\"))\n",
    "\n",
    "class sql_conn:\n",
    "    def __init__(self, conn):\n",
    "        self.conn = conn\n",
    "        self.cursor = conn.cursor()\n",
    "\n",
    "    def __search_user_by_name(self, username):\n",
    "        self.cursor.execute(\"select * from users where username='{}';\".format(username))\n",
    "        return self.cursor.fetchone()  # None if it doesn't exist\n",
    "\n",
    "    def __search_user_by_id(self, userid):\n",
    "        self.cursor.execute(\"select * from users where userid={};\".format(userid))\n",
    "        return self.cursor.fetchone()  # None if it doesn't exist\n",
    "\n",
    "    def __search_admin_by_name(self, adminname):\n",
    "        result = self.cursor.execute(\"select * from admin where adminname='{}';\".format(adminname))\n",
    "        return self.cursor.fetchone()  # None if it doesn't exist\n",
    "\n",
    "    def __search_source_by_name(self, sourcename):\n",
    "        result = self.cursor.execute(\"select * from source where sourcename='{}';\".format(sourcename))\n",
    "        return self.cursor.fetchone()  # None if it doesn't exist\n",
    "\n",
    "    def __search_source_by_id(self, sourceid):\n",
    "        result = self.cursor.execute(\"select * from source where sourceid='{}';\".format(sourceid))\n",
    "        return self.cursor.fetchone()  # None if it doesn't exist\n",
    "\n",
    "    def __insertion(self, sql):\n",
    "        try:\n",
    "            self.cursor.execute(sql)\n",
    "            self.conn.commit()\n",
    "            return 1\n",
    "        except:\n",
    "            return -1\n",
    "\n",
    "    def __exe_sql(self, sql):\n",
    "        try:\n",
    "            self.cursor.execute(sql)\n",
    "            return self.cursor.fetchall()\n",
    "        except:\n",
    "            return None\n",
    "\n",
    "    def __get_by_option(self, tablename, target_col, col_val_dict, head=True):\n",
    "        # search by one of the condition\n",
    "        try:\n",
    "            for col in col_val_dict.keys():\n",
    "                if col_val_dict[col] != None:\n",
    "                    pkcol = col\n",
    "            self.cursor.execute(\n",
    "                \"select {} from {} where {}='{}';\".format(target_col, tablename, pkcol, col_val_dict[pkcol]))\n",
    "            if head:\n",
    "                return self.cursor.fetchone()[0]\n",
    "            else:\n",
    "                return self.cursor.fetchone()\n",
    "        except:\n",
    "            return None\n",
    "\n",
    "    def __get_by_mul_cond(self, tablename, target_col, col_val_dict):\n",
    "        # search by multiple conditions\n",
    "        try:\n",
    "            sql = \"select {} from {} where \".format(target_col, tablename)\n",
    "            for i, col in enumerate(col_val_dict.keys()):\n",
    "                if i != 0:\n",
    "                    sql += \" and \"\n",
    "                sql += \"{} = '{}'\".format(col, col_val_dict[col])\n",
    "\n",
    "            sql += \";\"\n",
    "            # print(sql)\n",
    "            self.cursor.execute(sql)\n",
    "            return self.cursor.fetchone()[0]\n",
    "        except:\n",
    "            return None\n",
    "\n",
    "    # user*******************************************************************************\n",
    "    def get_all_user(self):\n",
    "        return self.__exe_sql(\"select * from users;\")\n",
    "\n",
    "    def get_user(self, userid=None, username=None, user_email=None):\n",
    "        return self.__get_by_option('users', '*', {'userid': userid, 'username': username, 'email_address': user_email},\n",
    "                                    head=False)\n",
    "\n",
    "    def get_user_number(self):\n",
    "        return self.__exe_sql(\"select count(*) from users;\")[0][0]\n",
    "\n",
    "    def get_user_id(self, username=None, user_email=None):\n",
    "        return self.__get_by_option('users', 'userid', {'username': username, 'email_address': user_email})\n",
    "\n",
    "    def get_user_passwd(self, userid=None, username=None, user_email=None):\n",
    "        return self.__get_by_option('users', 'password',\n",
    "                                    {'userid': userid, 'username': username, 'email_address': user_email})\n",
    "\n",
    "    def get_user_email(self, userid=None, username=None):\n",
    "        return self.__get_by_option('users', 'email_address', {'userid': userid, 'username': username})\n",
    "\n",
    "    def get_user_name(self, userid=None, user_email=None):\n",
    "        return self.__get_by_option('users', 'username', {'userid': userid, 'email_address': user_email})\n",
    "\n",
    "    def get_user_credit(self, userid=None, username=None, user_email=None):\n",
    "        return self.__get_by_option('users', 'credits',\n",
    "                                    {'userid': userid, 'username': username, 'email_address': user_email})\n",
    "\n",
    "    def get_user_nb_accept(self, userid=None, username=None, user_email=None):\n",
    "        return self.__get_by_option('users', 'nb_accept',\n",
    "                                    {'userid': userid, 'username': username, 'email_address': user_email})\n",
    "\n",
    "    def get_user_nb_answer(self, userid=None, username=None, user_email=None):\n",
    "        return self.__get_by_option('users', 'nb_answer',\n",
    "                                    {'userid': userid, 'username': username, 'email_address': user_email})\n",
    "\n",
    "    def get_user_nb_val(self, userid=None, username=None, user_email=None):\n",
    "        return self.__get_by_option('users', 'nb_val',\n",
    "                                    {'userid': userid, 'username': username, 'email_address': user_email})\n",
    "\n",
    "    def get_user_nb_val_tp(self, userid=None, username=None, user_email=None):\n",
    "        return self.__get_by_option('users', 'nb_val_tp',\n",
    "                                    {'userid': userid, 'username': username, 'email_address': user_email})\n",
    "\n",
    "    def get_user_val_acc(self, userid=None, username=None, user_email=None):\n",
    "        total = self.get_user_nb_val(userid, username, user_email)\n",
    "        if total != 0:\n",
    "            return self.get_user_nb_val_tp(userid, username, user_email) / total\n",
    "        else:\n",
    "            return 0\n",
    "\n",
    "    def get_user_accept_rate(self, userid=None, username=None, user_email=None):\n",
    "        total = self.get_user_nb_answer(userid, username, user_email)\n",
    "        if total != 0:\n",
    "            return self.get_user_nb_accept(userid, username, user_email) / self.get_user_nb_answer(userid, username,\n",
    "                                                                                                   user_email)\n",
    "        else:\n",
    "            return 0\n",
    "\n",
    "\n",
    "    def insert_user(self, username, user_email, passwd, signin_time=get_timestamp(), credits=0, nb_accept=0,\n",
    "                    nb_answer=0, nb_examined=0):\n",
    "        # insertion: 1 success, 0: already exist, -1: fail\n",
    "        if self.__search_user_by_name(username) == None:\n",
    "            sql = \"INSERT INTO `se_proj`.`users` (`username`,`email_address`,`password`,`signin_date`,`credits`,`nb_accept`,`nb_answer`,`nb_examined`) VALUES ('{}','{}','{}','{}','{}',{},{},{});\" \\\n",
    "                .format(username, user_email, passwd, signin_time, credits, nb_accept, nb_answer, nb_examined)\n",
    "            return self.__insertion(sql)\n",
    "        else:\n",
    "            return 0\n",
    "\n",
    "    def user_exist(self, userid=None, username=None, user_email=None):\n",
    "        result = self.__get_by_option('users', '*',\n",
    "                                      {'userid': userid, 'username': username, 'email_address': user_email})\n",
    "        return True if result != None else False\n",
    "    \n",
    "    def get_user_credits_rank(self, user_email):\n",
    "        userid = self.get_user_id(user_email=user_email)\n",
    "        sql = \"select i.rank from \\\n",
    "        (SELECT u.userid,\\\n",
    "        @curRank := @curRank + 1 AS rank  FROM  se_proj.users u, (SELECT @curRank := 0) r \\\n",
    "        ORDER BY  u.credits desc ) i where i.userid={};\".format(userid)\n",
    "        return int(self.__exe_sql(sql)[0][0])\n",
    "\n",
    "    \n",
    "    def get_user_source(self, user_email):\n",
    "        userid = self.get_user_id(user_email=user_email)\n",
    "        return self.__exe_sql(\"select distinct(td.datasource) from text_label tl \\\n",
    "        join text_data td on td.dataid=tl.dataid join users u  on tl.userid= u.userid where u.userid={};\".format(userid))\n",
    "    \n",
    "    def get_user_mainpage_pan(self, user_email):\n",
    "        try:\n",
    "            # return [(priority, count), (priority, count), ...]\n",
    "            userid = self.get_user_id(user_email=user_email)\n",
    "            sql = \"select x.priority, count(*) from \\\n",
    "            (select  distinct(td.datasource), s.priority from text_label tl \\\n",
    "            join text_data td on tl.dataid=td.dataid join source s on s.sourceid = td.datasource \\\n",
    "            where userid={}) x group by x.priority;\".format(userid)\n",
    "            return self.__exe_sql(sql)\n",
    "        except:\n",
    "            return [(1,0),(2,0),(3,0)]\n",
    "    \n",
    "    def __user_label_later_number(self, ts_list, tr):\n",
    "        cnt = 0\n",
    "        for ts in ts_list:\n",
    "            if ts[0]>tr:\n",
    "                cnt += 1\n",
    "        return cnt\n",
    "    def get_user_mainpage_pan_history(self, user_email):\n",
    "        userid = self.get_user_id(user_email=user_email)\n",
    "        sql = \"select labeldate from text_label where userid={} order by labeldate desc;\".format(userid) \n",
    "        ts_list = self.__exe_sql(sql)\n",
    "        days_list = [1,3,7,30]\n",
    "        result = []\n",
    "        now = datetime.datetime.now()\n",
    "        for d in days_list:\n",
    "            ts_tr = timestamp_ealier_than(now, d) #threshold\n",
    "            result.append(self.__user_label_later_number(ts_list, ts_tr))\n",
    "            \n",
    "        result.append(len(ts_list))\n",
    "        return result\n",
    "        \n",
    "    # admin******************************************************************************\n",
    "    def get_admin(self, adminid=None, adminname=None, admin_email=None):\n",
    "        return self.__get_by_option('admin', '*',\n",
    "                                    {'adminid': adminid, 'adminname': adminname, 'email_address': admin_email},\n",
    "                                    head=False)\n",
    "\n",
    "    def insert_admin(self, email_addr, adminname, passwd, access_level=1):\n",
    "        # insertion: 1 success, 0: already exist, -1: fail\n",
    "        if self.__search_admin_by_name(adminname) == None:\n",
    "            sql = \"INSERT INTO `se_proj`.`admin` (`email_address`,`adminname`,`password`,`access_level`) VALUES ('{}','{}','{}','{}');\" \\\n",
    "                .format(email_addr, adminname, passwd, access_level)\n",
    "            return self.__insertion(sql)\n",
    "        else:\n",
    "            return 0\n",
    "        \n",
    "    def get_admin_source(self, adminid=None, adminname=None, admin_email=None):\n",
    "        if adminid==None:\n",
    "            adminid = self.__get_by_option('admin', 'adminid', {'email_address': admin_email, 'adminname': adminname})\n",
    "        return self.__exe_sql(\"select * from source where publisher={}\".format(adminid))\n",
    "\n",
    "    # source*****************************************************************************\n",
    "\n",
    "    def get_source_number(self):\n",
    "        return self.__exe_sql(\"select count(*) from source;\")[0][0]\n",
    "\n",
    "    def get_source(self, sourcename=None, sourceid=None):\n",
    "        return self.__get_by_option('source', '*', {'sourceid': sourceid, 'sourcename': sourcename}, head=False)\n",
    "\n",
    "    def get_all_source(self):\n",
    "        return self.__exe_sql(\"select * from source;\")\n",
    "\n",
    "    def get_source_id(self, sourcename):\n",
    "        return self.__get_by_option('source', 'sourceid', {'sourcename': sourcename})\n",
    "\n",
    "    def insert_source(self, sourcename, finished=0, publisher='NULL', description='', publish_time=get_timestamp(),\n",
    "                      priority=1):\n",
    "        # insertion: 1 success, 0: already exist, -1: fail\n",
    "        if self.__search_source_by_name(sourcename) == None:\n",
    "\n",
    "            sql = \"INSERT INTO `se_proj`.`source` (`sourcename`,`finished`,`publisher`,`description`,`publish_date`, `priority`)\\\n",
    "            VALUES ('{}',{}, {},'{}',{},{});\".format(sourcename, finished, publisher, description, publish_time,\n",
    "                                                     priority)\n",
    "            # print(sql)\n",
    "            return self.__insertion(sql)\n",
    "        else:\n",
    "            return 0\n",
    "        \n",
    "    def get_recent_source(self, limit=5):\n",
    "        return self.__exe_sql(\"select * from source order by publish_date desc limit {};\".format(limit))\n",
    "    \n",
    "    def get_source_by_priority(self, priority):\n",
    "        # priority should be 1 2 or 3\n",
    "        return self.__exe_sql(\"select * from se_proj.source where priority ={};\".format(priority))\n",
    "\n",
    "    # data *****************************************************************************\n",
    "    def __insert_textdata(self, sourceid, data_index, data_path, final_labelid='NULL'):\n",
    "        if self.__search_source_by_id(sourceid) != None:\n",
    "            sql = \"INSERT INTO `se_proj`.`text_data` (`datasource`,`data_index`,`data_path`,`final_labelid`) VALUES ({},{},'{}',{});\" \\\n",
    "                .format(sourceid, data_index, data_path, final_labelid)\n",
    "            return self.__insertion(sql)\n",
    "        else:\n",
    "            return 0\n",
    "\n",
    "    def load_data(self, root_path, sourceid=None, sourcename=None):\n",
    "        # load data(json file) from root folder into database\n",
    "        sourceid = self.__get_by_option('source', 'sourceid', {'sourceid': sourceid, 'sourcename': sourcename})\n",
    "        try:\n",
    "            _, _, files = next(os.walk(root_path))\n",
    "            self.__exe_sql(\"UPDATE `se_proj`.`source` SET `nb_json`= {}  WHERE `sourceid`={};\".format(len(files), sourceid))\n",
    "            for f in files:\n",
    "                with open(os.path.join(root_path, f)) as js:\n",
    "                    data_index = json.load(js)['index']\n",
    "                if None != self.__get_by_mul_cond('text_data', 'dataid',\n",
    "                                                  {'datasouce': sourceid, 'data_index': data_index}):\n",
    "                    continue\n",
    "                self.__insert_textdata(sourceid, data_index, os.path.join(root_path, f))\n",
    "            return 1\n",
    "        except:\n",
    "            return 0\n",
    "\n",
    "    def __get_textdata_sth(self, target_col, data_index, sourceid=None, sourcename=None):\n",
    "        sourceid = self.__get_by_option('source', 'sourceid', {'sourceid': sourceid, 'sourcename': sourcename})\n",
    "        return self.__get_by_mul_cond('text_data', target_col, {'datasource': sourceid, 'data_index': data_index})\n",
    "\n",
    "    def get_textdataid(self, data_index, sourceid=None, sourcename=None):\n",
    "        return self.__get_textdata_sth('dataid', data_index, sourceid, sourcename)\n",
    "\n",
    "\n",
    "    def update_final_labelid(self, data_index, labelid, sourceid=None, sourcename=None):\n",
    "        # 1:sucess -1:fail  0:souce or data not exist\n",
    "        sourceid = self.__get_by_option('source', 'sourceid', {'sourceid': sourceid, 'sourcename': sourcename})\n",
    "        dataid = self.get_textdataid(data_index, sourceid=sourceid)\n",
    "        if sourceid != None and dataid != None:\n",
    "            sql = \"UPDATE `se_proj`.`text_data` SET `final_labelid`={} WHERE `dataid`={};\".format(labelid, dataid)\n",
    "            return self.__insertion(sql)\n",
    "        else:\n",
    "            return 0\n",
    "    \n",
    "    def fetch_data(self, sourcename, user_email, nb=5):\n",
    "        userid=self.get_user_id(user_email=user_email)\n",
    "        sourceid = self.get_source_id(sourcename=sourcename)\n",
    "        \n",
    "        l = self.__exe_sql(\"select td.dataid, td.datasource, td.data_index, td.data_path from text_data td \\\n",
    "        left join text_label tl on tl.dataid = td.dataid \\\n",
    "        where td.datasource ={} and td.final_labelid is NULL and (tl.userid!={} or tl.userid is NULL)\\\n",
    "        limit {};\".format(sourceid, userid, nb))\n",
    "        \n",
    "        result = []\n",
    "        for i in l:\n",
    "            with open(i[-1]) as f:\n",
    "                data = json.load(f)\n",
    "            data['dataid'] = int(i[0])\n",
    "            result.append(data)\n",
    "        return result\n",
    "\n",
    "    \n",
    "    # label *****************************************************************************\n",
    "    \n",
    "    # index: dataid, userid\n",
    "    def __get_label_sth(self, target_col, dataid, userid=None, username=None, user_email=None):\n",
    "        if userid == None:\n",
    "            userid = self.__get_by_option('users', 'userid', {'username': username, 'email_address': user_email})\n",
    "        return self.__get_by_mul_cond('text_label', target_col, {'dataid': dataid, 'userid': userid})\n",
    "\n",
    "    def get_label_correct(self, dataid, userid=None, username=None, user_email=None):\n",
    "        # return 0 not determined, 1 correct, -1 not correct\n",
    "        return self.__get_label_sth('correct', userid, username, user_email)\n",
    "\n",
    "    def insert_label(self, user_email, json_list, save_dir='/home/se2018/label/', label_date=get_timestamp(), correct=0):\n",
    "        # insert label , save label json file from the same user of the same project\n",
    "        try:\n",
    "            userid=self.get_user_id(user_email=user_email)\n",
    "            proj_name = json_list[0]['projectName']\n",
    "            save_dir = save_dir+'{}/'.format(proj_name)\n",
    "            \n",
    "            if not os.path.exists(save_dir):\n",
    "                os.makedirs(save_dir)\n",
    "                \n",
    "            for j in json_list:\n",
    "                #save the file\n",
    "                save_path = save_dir+str(j['index'])+'_'+str(userid)+'_label.json'\n",
    "                with open(save_path, 'w') as outfile:\n",
    "                    json.dump(j, outfile)\n",
    "\n",
    "                sourceid = self.get_source_id(sourcename=proj_name)\n",
    "                label_content = []\n",
    "                for subtask in j['task']:\n",
    "                    label_content.append(subtask['label'])\n",
    "\n",
    "\n",
    "                sql = \"INSERT INTO text_label(`dataid`,`userid`,`labeldate`,`label_path`,`label_content`,`correct`) VALUES \\\n",
    "                ({},{},{},'{}','{}',{});\".format(j['dataid'], userid, label_date, save_path, label_content, correct)\n",
    "                print(sql)\n",
    "                if(self.__insertion(sql)== -1):\n",
    "                    return 0\n",
    "            return 1\n",
    "        except:\n",
    "            return -1\n",
    "    \n",
    "    \n",
    "\n",
    "    def close(self):\n",
    "        self.cursor.close()\n",
    "        self.conn.close()"
   ]
  },
  {
   "cell_type": "code",
   "execution_count": 328,
   "metadata": {},
   "outputs": [],
   "source": [
    "import mysql.connector\n",
    "from mysql.connector import connection\n",
    "from IPython.core.debugger import set_trace\n",
    "import os\n",
    "import json"
   ]
  },
  {
   "cell_type": "code",
   "execution_count": 332,
   "metadata": {},
   "outputs": [],
   "source": [
    "cnx = connection.MySQLConnection(user = 'root', password = 'se2018', host = '127.0.0.1', database = 'se_proj')"
   ]
  },
  {
   "cell_type": "code",
   "execution_count": 333,
   "metadata": {},
   "outputs": [],
   "source": [
    "c = sql_conn(cnx)"
   ]
  },
  {
   "cell_type": "code",
   "execution_count": 334,
   "metadata": {},
   "outputs": [
    {
     "data": {
      "text/plain": [
       "[2, 2, 2, 3, 4]"
      ]
     },
     "execution_count": 334,
     "metadata": {},
     "output_type": "execute_result"
    }
   ],
   "source": [
    "c.get_user_mainpage_pan_history(user_email=\"xuch@sb.com\")"
   ]
  },
  {
   "cell_type": "code",
   "execution_count": 144,
   "metadata": {},
   "outputs": [
    {
     "data": {
      "text/plain": [
       "[]"
      ]
     },
     "execution_count": 144,
     "metadata": {},
     "output_type": "execute_result"
    }
   ],
   "source": [
    "c.get_user_mainpage_pan(user_email=\"jj@jj.com\")"
   ]
  },
  {
   "cell_type": "code",
   "execution_count": 120,
   "metadata": {},
   "outputs": [
    {
     "data": {
      "text/plain": [
       "[(13,)]"
      ]
     },
     "execution_count": 120,
     "metadata": {},
     "output_type": "execute_result"
    }
   ],
   "source": [
    "c.get_user_source(user_email=\"huyx@sb.com\")"
   ]
  },
  {
   "cell_type": "code",
   "execution_count": 121,
   "metadata": {
    "scrolled": true
   },
   "outputs": [],
   "source": [
    "a = c.fetch_data(sourcename='nb_test', user_email='jiangtk@sb.com', nb=5)"
   ]
  },
  {
   "cell_type": "code",
   "execution_count": 122,
   "metadata": {
    "scrolled": true
   },
   "outputs": [
    {
     "data": {
      "text/plain": [
       "[{'data': '谢丹宁真漂亮',\n",
       "  'dataid': 45,\n",
       "  'index': 1,\n",
       "  'projectName': 'nb_test',\n",
       "  'task': [{'aim': '请标出下面这句话的情感态度',\n",
       "    'choices': ['Positive', 'Neutral', 'Negative'],\n",
       "    'front': 'option',\n",
       "    'label': '',\n",
       "    'mode': 'single'},\n",
       "   {'aim': '请选择这句话的情感：',\n",
       "    'choices': ['开心', '满意', '失望', '生气'],\n",
       "    'front': 'box',\n",
       "    'label': ['开心', '满意'],\n",
       "    'mode': 'multiple'},\n",
       "   {'aim': '请选出句子中的形容词：', 'front': 'blank', 'label': [], 'mode': 'open'}]},\n",
       " {'data': '今天天气真好啊',\n",
       "  'dataid': 38,\n",
       "  'index': 2,\n",
       "  'projectName': 'nb_test',\n",
       "  'task': [{'aim': '请标出下面这句话的情感态度',\n",
       "    'choices': ['Positive', 'Neutral', 'Negative'],\n",
       "    'front': 'option',\n",
       "    'label': '',\n",
       "    'mode': 'single'},\n",
       "   {'aim': '请选择这句话的情感：',\n",
       "    'choices': ['开心', '满意', '失望', '生气'],\n",
       "    'front': 'box',\n",
       "    'label': [],\n",
       "    'mode': 'multiple'},\n",
       "   {'aim': '请选出句子中的形容词：', 'front': 'blank', 'label': [], 'mode': 'open'}]},\n",
       " {'data': '请问教学楼在哪',\n",
       "  'dataid': 42,\n",
       "  'index': 3,\n",
       "  'projectName': 'nb_test',\n",
       "  'task': [{'aim': '请标出下面这句话的情感态度',\n",
       "    'choices': ['Positive', 'Neutral', 'Negative'],\n",
       "    'front': 'option',\n",
       "    'label': '',\n",
       "    'mode': 'single'},\n",
       "   {'aim': '请选择这句话的情感：',\n",
       "    'choices': ['开心', '满意', '失望', '生气'],\n",
       "    'front': 'box',\n",
       "    'label': [],\n",
       "    'mode': 'multiple'},\n",
       "   {'aim': '请选出句子中的形容词：', 'front': 'blank', 'label': [], 'mode': 'open'}]},\n",
       " {'data': '这个菜真难吃',\n",
       "  'dataid': 40,\n",
       "  'index': 4,\n",
       "  'projectName': 'nb_test',\n",
       "  'task': [{'aim': '请标出下面这句话的情感态度',\n",
       "    'choices': ['Positive', 'Neutral', 'Negative'],\n",
       "    'front': 'option',\n",
       "    'label': '',\n",
       "    'mode': 'single'},\n",
       "   {'aim': '请选择这句话的情感：',\n",
       "    'choices': ['开心', '满意', '失望', '生气'],\n",
       "    'front': 'box',\n",
       "    'label': [],\n",
       "    'mode': 'multiple'},\n",
       "   {'aim': '请选出句子中的形容词：', 'front': 'blank', 'label': [], 'mode': 'open'}]},\n",
       " {'data': '我实在想不出来了',\n",
       "  'dataid': 43,\n",
       "  'index': 5,\n",
       "  'projectName': 'nb_test',\n",
       "  'task': [{'aim': '请标出下面这句话的情感态度',\n",
       "    'choices': ['Positive', 'Neutral', 'Negative'],\n",
       "    'front': 'option',\n",
       "    'label': '',\n",
       "    'mode': 'single'},\n",
       "   {'aim': '请选择这句话的情感：',\n",
       "    'choices': ['开心', '满意', '失望', '生气'],\n",
       "    'front': 'box',\n",
       "    'label': [],\n",
       "    'mode': 'multiple'},\n",
       "   {'aim': '请选出句子中的形容词：', 'front': 'blank', 'label': [], 'mode': 'open'}]}]"
      ]
     },
     "execution_count": 122,
     "metadata": {},
     "output_type": "execute_result"
    }
   ],
   "source": [
    "a"
   ]
  },
  {
   "cell_type": "code",
   "execution_count": 132,
   "metadata": {},
   "outputs": [
    {
     "name": "stdout",
     "output_type": "stream",
     "text": [
      "INSERT INTO text_label(`dataid`,`userid`,`labeldate`,`label_path`,`label_content`,`correct`) VALUES                 (45,3,1528612323.28,'/home/se2018/label/nb_test/1_3_label.json','['', ['开心', '满意'], []]',0);\n"
     ]
    },
    {
     "data": {
      "text/plain": [
       "0"
      ]
     },
     "execution_count": 132,
     "metadata": {},
     "output_type": "execute_result"
    }
   ],
   "source": [
    "c.insert_label(user_email='xuch@sb.com', json_list=a)"
   ]
  },
  {
   "cell_type": "code",
   "execution_count": 66,
   "metadata": {},
   "outputs": [
    {
     "data": {
      "text/plain": [
       "2"
      ]
     },
     "execution_count": 66,
     "metadata": {},
     "output_type": "execute_result"
    }
   ],
   "source": [
    "c.get_user_credits_rank(user_email=\"huyx@sb.com\")"
   ]
  },
  {
   "cell_type": "code",
   "execution_count": 67,
   "metadata": {},
   "outputs": [
    {
     "data": {
      "text/plain": [
       "0"
      ]
     },
     "execution_count": 67,
     "metadata": {},
     "output_type": "execute_result"
    }
   ],
   "source": [
    "c.load_data(root_path='/home/se2018/data/xiednproj/', sourcename='xiednproj')"
   ]
  },
  {
   "cell_type": "code",
   "execution_count": 68,
   "metadata": {},
   "outputs": [
    {
     "name": "stdout",
     "output_type": "stream",
     "text": [
      "0\n",
      "1\n",
      "test\n",
      "jiangtk\n",
      "19\n",
      "True\n",
      "True\n",
      "False\n",
      "(2, 'huyx@sb.com', 'huyx', 'huyx', None, 10, 0, 0, 0, 0)\n"
     ]
    }
   ],
   "source": [
    "#test user\n",
    "print(c.insert_user('test', 'test@sb.com', 'test', credits = 0))\n",
    "print(c.get_user_id('jiangtk'))\n",
    "print(c.get_user_passwd(username='test'))\n",
    "print(c.get_user_passwd(userid=1))\n",
    "print(c.get_user_credit(username='jiangtk'))\n",
    "print(c.user_exist(username='huyx'))\n",
    "print(c.user_exist(userid=1))\n",
    "print(c.user_exist(userid=0))\n",
    "print(c.get_user(username='huyx'))"
   ]
  },
  {
   "cell_type": "code",
   "execution_count": 74,
   "metadata": {},
   "outputs": [
    {
     "name": "stdout",
     "output_type": "stream",
     "text": [
      "0\n",
      "(1, 'xiedn@666.com', 'xiedn', 'xiedn', 2)\n",
      "[(1, 'jiangtk@sb.com', 'jiangtk', 'jiangtk', None, 19, 15, 15, 5, 4), (2, 'huyx@sb.com', 'huyx', 'huyx', None, 10, 0, 0, 0, 0), (3, 'xuch@sb.com', 'xuch', 'xuch', None, 0, 0, 0, 0, 0), (12, 'test@sb.com', 'test', 'test', 1527145856.0, 0, 0, 0, 0, 0), (13, 'yxy@qq.com', 'yandadiao', 'yandadiao', 1527390848.0, 0, 0, 0, 0, 0), (14, 'huhu@qq.com', 'huhu', 'huhuhu', 1527397120.0, 0, 0, 0, 0, 0), (15, 'uu@uu.com', 'uu', 'uuu', 1527397632.0, 0, 0, 0, 0, 0), (16, 'uu@uuuu.com', 'uuuu', 'uuuu', 1527400576.0, 0, 0, 0, 0, 0), (17, 'ii@ii.com', 'ii', 'ii', 1527400832.0, 0, 0, 0, 0, 0), (18, 'jj@jj.com', 'jj', 'jj', 1527400832.0, 0, 0, 0, 0, 0), (19, 'ooo@ooo.com', 'ooo', 'ooo', 1527402240.0, 0, 0, 0, 0, 0), (20, 'pp@pp.com', 'pp', 'pp', 1527402240.0, 0, 0, 0, 0, 0), (21, 'ww@ww.com', 'ww', 'ww', 1527402624.0, 0, 0, 0, 0, 0), (22, '11510706@sustc.edu', 'yanxiangyisb', 'password', 1527403008.0, 0, 0, 0, 0, 0), (24, '11510225@sustc.edu', 'hu', 'password', 1527403392.0, 0, 0, 0, 0, 0), (25, 'xieloner@qq.com', 'xieloner', 'xieloner', 1527405952.0, 0, 0, 0, 0, 0), (26, '1@1.com', 'qq', 'qq', 1527485824.0, 0, 0, 0, 0, 0)]\n",
      "17\n"
     ]
    }
   ],
   "source": [
    "# test admin\n",
    "print(c.insert_admin('test@sb.com', 'test', 'test', access_level=1))\n",
    "print(c.get_admin(adminname='xiedn'))\n",
    "print(c.get_all_user())\n",
    "print(c.get_user_number())"
   ]
  },
  {
   "cell_type": "code",
   "execution_count": 77,
   "metadata": {},
   "outputs": [
    {
     "name": "stdout",
     "output_type": "stream",
     "text": [
      "0\n",
      "None\n",
      "(11, 'test_proj', 0, 1, 1527402240.0, 'this is a test project', 1, 1)\n",
      "[(11, 'test_proj', 0, 1, 1527402240.0, 'this is a test project', 1, 1), (12, 'test', 3456, 1, 1527409408.0, 'test_desc', 1, 54321), (13, 'xiednproj', 0, 1, 1527928320.0, 'xiedn single option project', 2, 11), (14, 'yxy_test', 4, 2, 1527935232.0, 'This is a test for auto upload task.', 3, 11), (15, 'nb_test', 0, 2, 1528030464.0, 'This is a test for nb.', 1, 11)]\n",
      "5\n"
     ]
    }
   ],
   "source": [
    "# test source\n",
    "print(c.insert_source('test',description='test_desc'))\n",
    "print(c.get_source_id(sourcename='d'))\n",
    "print(c.get_source(sourcename='test_proj'))\n",
    "print(c.get_all_source())\n",
    "print(c.get_source_number())"
   ]
  },
  {
   "cell_type": "code",
   "execution_count": 80,
   "metadata": {},
   "outputs": [
    {
     "name": "stdout",
     "output_type": "stream",
     "text": [
      "1\n",
      "23\n"
     ]
    }
   ],
   "source": [
    "print(c.load_data('/home/se2018/data/test_proj/', sourcename='test_proj'))\n",
    "print(c.get_textdataid(data_index=723154, sourcename='test_proj'))\n",
    "#print(c.update_final_labelid(index=723154, labelid=1, souceid=11))"
   ]
  },
  {
   "cell_type": "code",
   "execution_count": 81,
   "metadata": {},
   "outputs": [],
   "source": [
    "c.close()"
   ]
  },
  {
   "cell_type": "code",
   "execution_count": 299,
   "metadata": {},
   "outputs": [],
   "source": [
    "now = datetime.datetime.now()\n",
    "a = now - datetime.timedelta(days=8)"
   ]
  },
  {
   "cell_type": "code",
   "execution_count": 300,
   "metadata": {},
   "outputs": [],
   "source": [
    "a = a.strftime(\"%s\")"
   ]
  },
  {
   "cell_type": "code",
   "execution_count": 301,
   "metadata": {},
   "outputs": [
    {
     "data": {
      "text/plain": [
       "1527923927"
      ]
     },
     "execution_count": 301,
     "metadata": {},
     "output_type": "execute_result"
    }
   ],
   "source": [
    "int(a)"
   ]
  },
  {
   "cell_type": "code",
   "execution_count": 305,
   "metadata": {},
   "outputs": [
    {
     "data": {
      "text/plain": [
       "0"
      ]
     },
     "execution_count": 305,
     "metadata": {},
     "output_type": "execute_result"
    }
   ],
   "source": [
    "#l = c.get_user_mainpage_pan_history(user_email=\"xuch@sb.com\")\n",
    "next(x[0] for x in enumerate(l) if int(x[1][0])>int(a))\n"
   ]
  },
  {
   "cell_type": "code",
   "execution_count": 303,
   "metadata": {},
   "outputs": [
    {
     "name": "stdout",
     "output_type": "stream",
     "text": [
      "True\n",
      "True\n"
     ]
    }
   ],
   "source": [
    "for ll in l:\n",
    "    print(ll[0]>int(a))"
   ]
  },
  {
   "cell_type": "code",
   "execution_count": 304,
   "metadata": {},
   "outputs": [],
   "source": [
    "l = [(1528612352.0,), (1527928320.0,)]"
   ]
  },
  {
   "cell_type": "code",
   "execution_count": 269,
   "metadata": {},
   "outputs": [
    {
     "data": {
      "text/plain": [
       "[(1528612352.0,), (1527928320.0,)]"
      ]
     },
     "execution_count": 269,
     "metadata": {},
     "output_type": "execute_result"
    }
   ],
   "source": [
    "l"
   ]
  },
  {
   "cell_type": "code",
   "execution_count": null,
   "metadata": {},
   "outputs": [],
   "source": []
  }
 ],
 "metadata": {
  "kernelspec": {
   "display_name": "Python 3",
   "language": "python",
   "name": "python3"
  },
  "language_info": {
   "codemirror_mode": {
    "name": "ipython",
    "version": 3
   },
   "file_extension": ".py",
   "mimetype": "text/x-python",
   "name": "python",
   "nbconvert_exporter": "python",
   "pygments_lexer": "ipython3",
   "version": "3.5.2"
  }
 },
 "nbformat": 4,
 "nbformat_minor": 2
}
