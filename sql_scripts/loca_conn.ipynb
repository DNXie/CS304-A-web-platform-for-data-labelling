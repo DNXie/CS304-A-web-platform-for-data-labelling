{
 "cells": [
  {
   "cell_type": "code",
   "execution_count": 10,
   "metadata": {},
   "outputs": [],
   "source": [
    "import mysql.connector\n",
    "from mysql.connector import connection\n",
    "from time import gmtime, strftime\n",
    "from IPython.core.debugger import set_trace\n",
    "import os"
   ]
  },
  {
   "cell_type": "code",
   "execution_count": 25,
   "metadata": {},
   "outputs": [],
   "source": [
    "cnx = connection.MySQLConnection(user = 'root', password = 'se2018', host = '127.0.0.1', database = 'se_proj')"
   ]
  },
  {
   "cell_type": "code",
   "execution_count": 5,
   "metadata": {},
   "outputs": [],
   "source": [
    "def get_timestamp():\n",
    "    return float(\"{0:.2f}\".format(time.time()))\n",
    "    #return strftime(\"%Y-%m-%d %H:%M:%S\", gmtime())"
   ]
  },
  {
   "cell_type": "code",
   "execution_count": 50,
   "metadata": {},
   "outputs": [],
   "source": [
    "class sql_conn:\n",
    "    def __init__(self, conn):\n",
    "        self.conn = conn\n",
    "        self.cursor = conn.cursor()\n",
    "\n",
    "    def __search_user_by_name(self, username):\n",
    "        self.cursor.execute(\"select * from users where username='{}';\".format(username))\n",
    "        return self.cursor.fetchone()  # None if it doesn't exist\n",
    "    \n",
    "    def __search_user_by_id(self, userid):\n",
    "        self.cursor.execute(\"select * from users where userid={};\".format(userid))\n",
    "        return self.cursor.fetchone()  # None if it doesn't exist\n",
    "\n",
    "    def __search_admin_by_name(self, adminname):\n",
    "        result = self.cursor.execute(\"select * from admin where adminname='{}';\".format(adminname))\n",
    "        return self.cursor.fetchone()  # None if it doesn't exist\n",
    "\n",
    "    def __search_source_by_name(self, sourcename):\n",
    "        result = self.cursor.execute(\"select * from source where sourcename='{}';\".format(sourcename))\n",
    "        return self.cursor.fetchone()  # None if it doesn't exist\n",
    "    \n",
    "    def __search_source_by_id(self, sourceid):\n",
    "        result = self.cursor.execute(\"select * from source where sourceid='{}';\".format(sourceid))\n",
    "        return self.cursor.fetchone()  # None if it doesn't exist\n",
    "\n",
    "    def __insertion(self, sql):\n",
    "        try:\n",
    "            self.cursor.execute(sql)\n",
    "            self.conn.commit()\n",
    "            return 1\n",
    "        except:\n",
    "            return -1\n",
    "\n",
    "    def __get_by_option(self, tablename, target_col, col_val_dict):\n",
    "        # search by either id or name \n",
    "        try:\n",
    "            for col in col_val_dict.keys():\n",
    "                if col_val_dict[col]!=None:   \n",
    "                    pkcol = col\n",
    "            self.cursor.execute(\"select {} from {} where {}='{}';\".format(target_col, tablename, pkcol, col_val_dict[pkcol]))\n",
    "            return self.cursor.fetchone()[0]\n",
    "        except:\n",
    "            return None\n",
    "        \n",
    "    \n",
    "    \n",
    "    # user*******************************************************************************\n",
    "    def get_user_id(self, username=None, user_email=None):\n",
    "        return self.__get_by_option('users', 'userid', {'username': username, 'email_address': user_email})\n",
    "\n",
    "    def get_user_passwd(self, userid=None, username=None, user_email=None):\n",
    "        return  self.__get_by_option('users', 'password', {'userid': userid, 'username': username, 'email_address':user_email})\n",
    "        \n",
    "    def get_user_email(self, userid=None, username=None):\n",
    "        return self.__get_by_option('users', 'email_address', {'userid': userid, 'username': username})\n",
    "    \n",
    "    def get_user_name(self, userid=None, user_email=None):\n",
    "        return self.__get_by_option('users', 'username', {'userid': userid, 'email_address': user_email})\n",
    "\n",
    "    def get_user_credit(self, userid=None, username=None, user_email=None):\n",
    "        return self.__get_by_option('users', 'credits', {'userid': userid, 'username': username, 'email_address':user_email})\n",
    "\n",
    "    def get_user_signin_time(self, userid=None, username=None, user_email=None):\n",
    "        return self.__get_by_option('users', 'signin_date', {'userid': userid, 'username': username, 'email_address':user_email})\n",
    "\n",
    "    def insert_user(self, username, user_email, passwd, signin_time=get_timestamp(), credits=0):\n",
    "        # insertion: 1 success, 0: already exist, -1: fail\n",
    "        if self.__search_user_by_name(username) == None:\n",
    "#             if signin_time == 0:  # signin_time default: current time\n",
    "#                 signin_time = get_timestamp()\n",
    "            sql = \"INSERT INTO `se_proj`.`users` (`username`,`email_address`,`password`,`signin_date`,`credits`) VALUES ('{}','{}','{}','{}','{}');\" \\\n",
    "                .format(username, user_email, passwd, signin_time, credits)\n",
    "            return self.__insertion(sql)\n",
    "        else:\n",
    "            return 0\n",
    "\n",
    "    def user_exist(self, userid=None, username=None, user_email=None):\n",
    "        result = self.__get_by_option('users','*', {'userid': userid, 'username': username, 'email_address':user_email})\n",
    "        return True if result!=None else False\n",
    "\n",
    "        \n",
    "    # admin******************************************************************************\n",
    "    def get_admin_id(self, adminname=None, admin_email=None):\n",
    "        return self.__get_by_option('admin', 'adminid', {'email_address': admin_email, 'adminname': adminname})\n",
    "\n",
    "    def get_admin_name(self, adminid=None, admin_email=None):\n",
    "        return self.__get_by_option('admin', 'adminname', {'email_address': admin_email, 'adminid': adminid})\n",
    "    \n",
    "    def get_admin_passwd(self, adminid=None, adminname=None, admin_email=None):\n",
    "        return self.__get_by_option('admin', 'password', {'adminid': adminid, 'adminname': adminname, 'email_address': admin_email})\n",
    "        \n",
    "    def get_admin_access_level(self, adminid=None, adminname=None, admin_email=None):\n",
    "        # normal or super\n",
    "        return self.__get_by_option('admin', 'access_level', {'adminid': adminid, 'adminname': adminname, 'email_address': admin_email})\n",
    "        \n",
    "    def insert_admin(self, email_addr, adminname, passwd, access_level=1):\n",
    "        # insertion: 1 success, 0: already exist, -1: fail\n",
    "        if self.__search_admin_by_name(adminname) == None:\n",
    "            sql = \"INSERT INTO `se_proj`.`admin` (`email_address`,`adminname`,`password`,`access_level`) VALUES ('{}','{}','{}','{}');\" \\\n",
    "                .format(email_addr, adminname, passwd, access_level)\n",
    "            return self.__insertion(sql)\n",
    "        else:\n",
    "            return 0\n",
    "\n",
    "    # source*****************************************************************************\n",
    "    def get_source_id(self, sourcename):\n",
    "        self.cursor.execute(\"select sourceid from source where sourcename='{}';\".format(sourcename))\n",
    "        return self.cursor.fetchone()[0]  # None if it doesn't exist\n",
    "\n",
    "    def get_source_finished(self, sourcename=None, sourceid=None):\n",
    "        result = self.__get_by_option('source', 'finished', {'sourceid': sourceid, 'sourcename': sourcename})\n",
    "        return True if result==1 else False\n",
    "    \n",
    "    def get_source_publisherid(self, sourcename=None, sourceid=None):\n",
    "        #return admin id\n",
    "        return self.__get_by_option('source', 'publisher', {'sourceid': sourceid, 'sourcename': sourcename})\n",
    "    \n",
    "    def get_source_desc(self, sourcename=None, sourceid=None):\n",
    "        return self.__get_by_option('source', 'description',{'sourceid': sourceid, 'sourcename': sourcename})\n",
    "    \n",
    "    def get_source_priority(self, sourcename=None, sourceid=None):\n",
    "        return self.__get_by_option('source', 'priority', {'sourceid': sourceid, 'sourcename': sourcename})\n",
    "    \n",
    "    def insert_source(self, sourcename,finished=0, publisher='NULL', description='', publish_time=get_timestamp(), priority=1):\n",
    "        # insertion: 1 success, 0: already exist, -1: fail\n",
    "        if self.__search_source_by_name(sourcename) == None:\n",
    "            \n",
    "            sql = \"INSERT INTO `se_proj`.`source` (`sourcename`,`finished`,`publisher`,`description`,`publish_date`, `priority`)\\\n",
    "            VALUES ('{}',{}, {},'{}',{},{});\" .format(sourcename, finished, publisher, description, publish_time, priority)\n",
    "            #print(sql)\n",
    "            return self.__insertion(sql)\n",
    "        else:\n",
    "            return 0\n",
    "\n",
    "    # data *****************************************************************************\n",
    "    def __insert_textdata(self, sourceid, data_path, final_labelid='NULL'):\n",
    "        if self.__search_source_by_id(sourceid)!=None:\n",
    "            sql = \"INSERT INTO `se_proj`.`text_data` (`datasource`,`data_path`,`final_labelid`) VALUES ({},'{}',{});\"\\\n",
    "            .format(sourceid, data_path, final_labelid)\n",
    "            return self.__insertion(sql)\n",
    "        else:\n",
    "            return 0\n",
    "        \n",
    "    def load_data(self, root_path, sourceid=None, sourcename=None):\n",
    "        # load data(json file) from root folder into database\n",
    "        if sourceid == None and sourcename ==None:\n",
    "            return 0   #fail\n",
    "        if sourceid == None and sourcename != None:\n",
    "            sourceid = self.get_source_id(sourcename)\n",
    "        try:\n",
    "            _, _, files = next(os.walk(root_path))\n",
    "            for f in files:\n",
    "                self.__insert_textdata(sourceid, root_path+f)\n",
    "            return 1\n",
    "        except:\n",
    "            return 0\n",
    "        \n",
    "            \n",
    "    def close(self):\n",
    "        self.cursor.close()\n",
    "        self.conn.close()"
   ]
  },
  {
   "cell_type": "code",
   "execution_count": 51,
   "metadata": {},
   "outputs": [],
   "source": [
    "c = sql_conn(cnx)"
   ]
  },
  {
   "cell_type": "code",
   "execution_count": 34,
   "metadata": {},
   "outputs": [
    {
     "name": "stdout",
     "output_type": "stream",
     "text": [
      "0\n",
      "1\n",
      "test\n",
      "jiangtk\n",
      "20\n",
      "True\n",
      "True\n",
      "False\n"
     ]
    }
   ],
   "source": [
    "#test user\n",
    "print(c.insert_user('test', 'test@sb.com', 'test', credits = 0))\n",
    "print(c.get_user_id('jiangtk'))\n",
    "print(c.get_user_passwd(username='test'))\n",
    "print(c.get_user_passwd(userid=1))\n",
    "print(c.get_user_credit(username='jiangtk'))\n",
    "print(c.user_exist(username='huyx'))\n",
    "print(c.user_exist(userid=1))\n",
    "print(c.user_exist(userid=0))"
   ]
  },
  {
   "cell_type": "code",
   "execution_count": null,
   "metadata": {},
   "outputs": [],
   "source": [
    "# test admin\n",
    "print(c.insert_admin('test@sb.com', 'test', 'test', access_level=1))\n",
    "print(c.get_admin_passwd(adminname='test'))\n",
    "print(c.get_admin_id(adminname='xiedn'))\n",
    "print(c.get_admin_passwd(adminid=1))\n",
    "print(c.get_admin_access_level(adminname='xiedn'))"
   ]
  },
  {
   "cell_type": "code",
   "execution_count": null,
   "metadata": {},
   "outputs": [],
   "source": [
    "# test source\n",
    "print(c.insert_source('test',description='test_desc'))\n",
    "print(c.get_source_id(sourcename='tmp_image'))\n",
    "print(c.get_source_finished(sourcename='imagenet'))\n",
    "print(c.get_source_finished(sourceid=3))\n",
    "print(c.get_source_publisherid(sourceid=4))\n",
    "print(c.get_source_desc(sourcename='test'))\n",
    "print(c.get_source_priority(sourceid=7))"
   ]
  },
  {
   "cell_type": "code",
   "execution_count": 52,
   "metadata": {},
   "outputs": [
    {
     "data": {
      "text/plain": [
       "1"
      ]
     },
     "execution_count": 52,
     "metadata": {},
     "output_type": "execute_result"
    }
   ],
   "source": [
    "c.load_data('/home/se2018/data/test_proj/', sourcename='test_proj')"
   ]
  },
  {
   "cell_type": "code",
   "execution_count": 24,
   "metadata": {},
   "outputs": [],
   "source": [
    "c.close()"
   ]
  },
  {
   "cell_type": "code",
   "execution_count": null,
   "metadata": {},
   "outputs": [],
   "source": []
  }
 ],
 "metadata": {
  "kernelspec": {
   "display_name": "Python 3",
   "language": "python",
   "name": "python3"
  },
  "language_info": {
   "codemirror_mode": {
    "name": "ipython",
    "version": 3
   },
   "file_extension": ".py",
   "mimetype": "text/x-python",
   "name": "python",
   "nbconvert_exporter": "python",
   "pygments_lexer": "ipython3",
   "version": "3.5.2"
  }
 },
 "nbformat": 4,
 "nbformat_minor": 2
}
